{
 "cells": [
  {
   "cell_type": "code",
   "id": "initial_id",
   "metadata": {
    "collapsed": true,
    "ExecuteTime": {
     "end_time": "2025-03-25T14:15:00.812524Z",
     "start_time": "2025-03-25T14:14:55.557005Z"
    }
   },
   "source": [
    "from cuml.model_selection import train_test_split\n",
    "from cuml.preprocessing import StandardScaler\n",
    "from sklearn.neighbors import LocalOutlierFactor\n",
    "from xgboost import XGBClassifier\n",
    "from ImageRecognizerML.CustomModel.CustomVoting import CustomVoting\n",
    "from sklearn.metrics import classification_report, accuracy_score\n",
    "import cupy as cp\n",
    "import cudf as cf\n",
    "import pickle as pkl"
   ],
   "outputs": [],
   "execution_count": 1
  },
  {
   "metadata": {},
   "cell_type": "markdown",
   "source": "# Getting Dataset",
   "id": "be3bc43f46f056f2"
  },
  {
   "metadata": {
    "ExecuteTime": {
     "end_time": "2025-03-25T14:15:04.057521Z",
     "start_time": "2025-03-25T14:15:00.813853Z"
    }
   },
   "cell_type": "code",
   "source": [
    "df = cf.read_csv('cifar10.csv')\n",
    "df_features = cf.read_csv('cifar10_features.csv')"
   ],
   "id": "6b82d944c220da07",
   "outputs": [],
   "execution_count": 2
  },
  {
   "metadata": {},
   "cell_type": "markdown",
   "source": "# Scaling Datas",
   "id": "5349b3972d7723c4"
  },
  {
   "metadata": {
    "ExecuteTime": {
     "end_time": "2025-03-25T14:15:10.061262Z",
     "start_time": "2025-03-25T14:15:04.058749Z"
    }
   },
   "cell_type": "code",
   "source": [
    "columns = df.columns[:-1]\n",
    "columns_features = df_features.columns[:-1]\n",
    "\n",
    "scaler = StandardScaler()\n",
    "df[columns] = scaler.fit_transform(df[columns])\n",
    "df_features[columns_features] = scaler.fit_transform(df_features[columns_features])"
   ],
   "id": "2f06fbb046af25c7",
   "outputs": [],
   "execution_count": 3
  },
  {
   "metadata": {},
   "cell_type": "markdown",
   "source": "# Removing Outliers",
   "id": "b0b1e09891eaebe1"
  },
  {
   "metadata": {
    "ExecuteTime": {
     "end_time": "2025-03-25T14:16:11.388236Z",
     "start_time": "2025-03-25T14:15:10.064020Z"
    }
   },
   "cell_type": "code",
   "source": [
    "X = df.iloc[:, :-1].values.astype(cp.float64)\n",
    "y = df.iloc[:, -1].values.astype(cp.int8)\n",
    "X_features = df_features.iloc[:, :-1].values.astype(cp.float64)\n",
    "y_features = df_features.iloc[:, -1].values.astype(cp.int8)\n",
    "\n",
    "lof = LocalOutlierFactor(n_neighbors=5, contamination=0.02, n_jobs=-1)\n",
    "lof_outliers = lof.fit_predict(X.get())\n",
    "lof_outliers = cp.array(lof_outliers)\n",
    "\n",
    "outliers_idx = cp.where(lof_outliers == -1)\n",
    "\n",
    "X = cp.delete(X, outliers_idx, axis=0)\n",
    "y = cp.delete(y, outliers_idx, axis=0)\n",
    "X_features = cp.delete(X_features, outliers_idx, axis=0)\n",
    "y_features = cp.delete(y_features, outliers_idx, axis=0)"
   ],
   "id": "a7efb28792283665",
   "outputs": [],
   "execution_count": 4
  },
  {
   "metadata": {},
   "cell_type": "markdown",
   "source": "# Training Model",
   "id": "3b9a137a8be6f3c6"
  },
  {
   "metadata": {
    "ExecuteTime": {
     "end_time": "2025-03-25T14:27:20.219242Z",
     "start_time": "2025-03-25T14:16:11.389453Z"
    }
   },
   "cell_type": "code",
   "source": [
    "X_train, X_test, y_train, y_test = train_test_split(X, y, test_size=0.2, random_state=42)\n",
    "X_train_features, X_test_features, y_train_features, y_test_features = train_test_split(X_features, y_features, test_size=0.2, random_state=42)\n",
    "\n",
    "model = CustomVoting(models=[\n",
    "    XGBClassifier(n_estimators=900, learning_rate=0.3, max_depth=6, device='cuda'), \n",
    "    XGBClassifier(n_estimators=2000, learning_rate=0.2, max_depth=5, device='cuda')\n",
    "], weights=[0.7, 0.3])\n",
    "model.fit([{'X_train': X_train, 'y_train': y_train}, {'X_train': X_train_features, 'y_train': y_train_features}])\n",
    "\n",
    "y_pred = model.predict([X_test, X_test_features])\n",
    "\n",
    "print(accuracy_score(y_test.get(), y_pred))\n",
    "print(classification_report(y_test.get(), y_pred))"
   ],
   "id": "1d43c9112f670d0b",
   "outputs": [
    {
     "name": "stdout",
     "output_type": "stream",
     "text": [
      "Training Models Started\n",
      "Training Model 1 Done\n",
      "Training Model 2 Done\n",
      "Training Models Finished\n",
      "Predicting Models Started\n",
      "Predicting Models Finished\n",
      "0.6005952380952381\n",
      "              precision    recall  f1-score   support\n",
      "\n",
      "           0       0.64      0.63      0.64      1250\n",
      "           1       0.69      0.69      0.69      1122\n",
      "           2       0.51      0.48      0.49      1168\n",
      "           3       0.45      0.44      0.45      1173\n",
      "           4       0.52      0.49      0.50      1160\n",
      "           5       0.52      0.50      0.51      1170\n",
      "           6       0.62      0.71      0.66      1219\n",
      "           7       0.66      0.65      0.65      1155\n",
      "           8       0.72      0.76      0.74      1198\n",
      "           9       0.64      0.67      0.65      1145\n",
      "\n",
      "    accuracy                           0.60     11760\n",
      "   macro avg       0.60      0.60      0.60     11760\n",
      "weighted avg       0.60      0.60      0.60     11760\n",
      "\n"
     ]
    }
   ],
   "execution_count": 5
  }
 ],
 "metadata": {
  "kernelspec": {
   "display_name": "Python 3",
   "language": "python",
   "name": "python3"
  },
  "language_info": {
   "codemirror_mode": {
    "name": "ipython",
    "version": 2
   },
   "file_extension": ".py",
   "mimetype": "text/x-python",
   "name": "python",
   "nbconvert_exporter": "python",
   "pygments_lexer": "ipython2",
   "version": "2.7.6"
  }
 },
 "nbformat": 4,
 "nbformat_minor": 5
}
