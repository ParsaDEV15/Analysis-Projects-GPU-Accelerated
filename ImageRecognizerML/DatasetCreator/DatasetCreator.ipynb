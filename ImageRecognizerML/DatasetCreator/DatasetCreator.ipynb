{
 "cells": [
  {
   "cell_type": "code",
   "id": "initial_id",
   "metadata": {
    "collapsed": true,
    "ExecuteTime": {
     "end_time": "2025-03-25T14:28:58.337113Z",
     "start_time": "2025-03-25T14:28:57.486801Z"
    }
   },
   "source": [
    "from sklearn.datasets import fetch_openml\n",
    "import cv2 as cv\n",
    "import numpy as np\n",
    "import pandas as pd"
   ],
   "outputs": [],
   "execution_count": 1
  },
  {
   "metadata": {},
   "cell_type": "markdown",
   "source": "### Load Datas",
   "id": "47938895cd33b02c"
  },
  {
   "metadata": {
    "ExecuteTime": {
     "end_time": "2025-03-25T14:29:12.056757Z",
     "start_time": "2025-03-25T14:28:58.468831Z"
    }
   },
   "cell_type": "code",
   "source": [
    "cifar10 = fetch_openml('CIFAR_10')\n",
    "X, y = cifar10.data, cifar10.target"
   ],
   "id": "8be33bf2394e85fa",
   "outputs": [],
   "execution_count": 2
  },
  {
   "metadata": {},
   "cell_type": "markdown",
   "source": "### Create Dataset",
   "id": "9bc46788f32c69c0"
  },
  {
   "metadata": {
    "ExecuteTime": {
     "end_time": "2025-03-25T14:29:43.378019Z",
     "start_time": "2025-03-25T14:29:12.057912Z"
    }
   },
   "cell_type": "code",
   "source": [
    "df = pd.DataFrame(np.hstack([X, y.values.reshape(-1, 1)]))\n",
    "df.to_csv('../cifar10.csv', index=False)"
   ],
   "id": "8b6c90799db8d01b",
   "outputs": [],
   "execution_count": 3
  },
  {
   "metadata": {},
   "cell_type": "markdown",
   "source": "### Create Features",
   "id": "632808921fa963ba"
  },
  {
   "metadata": {
    "ExecuteTime": {
     "end_time": "2025-03-24T16:00:46.803624Z",
     "start_time": "2025-03-24T16:00:29.117695Z"
    }
   },
   "cell_type": "code",
   "source": [
    "edges = []\n",
    "for i in range(len(X)):\n",
    "    image = X.iloc[i].values.reshape(32, 32, 3).astype(np.uint8)\n",
    "    image_outline = cv.Canny(image, 400, 450)\n",
    "    image_outline = image_outline.reshape(1, -1)\n",
    "    edges.append(image_outline.flatten())\n",
    "    \n",
    "df = pd.DataFrame(np.hstack([edges, y.values.reshape(-1, 1)]))\n",
    "df.to_csv('../cifar10_features.csv', index=False)"
   ],
   "id": "c2755785807676ba",
   "outputs": [],
   "execution_count": 5
  }
 ],
 "metadata": {
  "kernelspec": {
   "display_name": "Python 3",
   "language": "python",
   "name": "python3"
  },
  "language_info": {
   "codemirror_mode": {
    "name": "ipython",
    "version": 2
   },
   "file_extension": ".py",
   "mimetype": "text/x-python",
   "name": "python",
   "nbconvert_exporter": "python",
   "pygments_lexer": "ipython2",
   "version": "2.7.6"
  }
 },
 "nbformat": 4,
 "nbformat_minor": 5
}
