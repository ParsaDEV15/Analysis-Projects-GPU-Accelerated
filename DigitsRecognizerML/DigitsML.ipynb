{
 "cells": [
  {
   "cell_type": "code",
   "id": "initial_id",
   "metadata": {
    "collapsed": true,
    "ExecuteTime": {
     "end_time": "2025-03-23T17:31:56.119234Z",
     "start_time": "2025-03-23T17:31:52.660292Z"
    }
   },
   "source": [
    "from sklearn.datasets import fetch_openml\n",
    "from cuml.model_selection import train_test_split\n",
    "from cuml.svm import SVC\n",
    "from sklearn.metrics import classification_report, accuracy_score\n",
    "from cuml.preprocessing import MinMaxScaler\n",
    "import cupy as cp"
   ],
   "outputs": [],
   "execution_count": 1
  },
  {
   "metadata": {},
   "cell_type": "markdown",
   "source": "# Loading Data",
   "id": "44a3ffc23f8bbe74"
  },
  {
   "metadata": {
    "ExecuteTime": {
     "end_time": "2025-03-23T17:32:01.548023Z",
     "start_time": "2025-03-23T17:31:56.120571Z"
    }
   },
   "cell_type": "code",
   "source": [
    "X, y = fetch_openml('mnist_784', as_frame=False, return_X_y=True)\n",
    "\n",
    "X = cp.array(X)\n",
    "y = cp.array(y.astype(cp.int8))"
   ],
   "id": "9f894eeb79bd4aa1",
   "outputs": [],
   "execution_count": 2
  },
  {
   "metadata": {
    "ExecuteTime": {
     "end_time": "2025-03-23T17:32:01.687266Z",
     "start_time": "2025-03-23T17:32:01.549692Z"
    }
   },
   "cell_type": "code",
   "source": [
    "print(X.shape)\n",
    "print(cp.unique(y))"
   ],
   "id": "1bc16f4fba57c09b",
   "outputs": [
    {
     "name": "stdout",
     "output_type": "stream",
     "text": [
      "(70000, 784)\n",
      "[0 1 2 3 4 5 6 7 8 9]\n"
     ]
    }
   ],
   "execution_count": 3
  },
  {
   "metadata": {},
   "cell_type": "markdown",
   "source": "# Scaling data",
   "id": "7fc35707bd98166d"
  },
  {
   "metadata": {
    "ExecuteTime": {
     "end_time": "2025-03-23T17:32:02.192092Z",
     "start_time": "2025-03-23T17:32:01.688477Z"
    }
   },
   "cell_type": "code",
   "source": [
    "scaler = MinMaxScaler()\n",
    "X = scaler.fit_transform(X)"
   ],
   "id": "c988a1e03022ae92",
   "outputs": [],
   "execution_count": 4
  },
  {
   "metadata": {},
   "cell_type": "markdown",
   "source": "# Training Model",
   "id": "98d5d58302c8f6af"
  },
  {
   "metadata": {
    "ExecuteTime": {
     "end_time": "2025-03-23T17:33:21.128821Z",
     "start_time": "2025-03-23T17:33:03.463827Z"
    }
   },
   "cell_type": "code",
   "source": [
    "train_X, test_X, train_y, test_y = train_test_split(X, y, test_size=0.2, random_state=42)\n",
    "\n",
    "model = SVC(kernel='rbf', C=10 ,max_iter=100)\n",
    "model.fit(train_X, train_y)\n",
    "\n",
    "y_pred = model.predict(test_X)\n",
    "\n",
    "print(accuracy_score(test_y.get(), y_pred.get()))\n",
    "print(classification_report(test_y.get(), y_pred.get()))"
   ],
   "id": "54d1c601a948d9a",
   "outputs": [
    {
     "name": "stdout",
     "output_type": "stream",
     "text": [
      "0.9825714285714285\n",
      "              precision    recall  f1-score   support\n",
      "\n",
      "           0       0.99      0.99      0.99      1370\n",
      "           1       0.99      0.99      0.99      1593\n",
      "           2       0.98      0.98      0.98      1386\n",
      "           3       0.99      0.97      0.98      1442\n",
      "           4       0.98      0.98      0.98      1339\n",
      "           5       0.98      0.98      0.98      1272\n",
      "           6       0.99      0.99      0.99      1401\n",
      "           7       0.98      0.98      0.98      1468\n",
      "           8       0.98      0.98      0.98      1339\n",
      "           9       0.97      0.98      0.97      1390\n",
      "\n",
      "    accuracy                           0.98     14000\n",
      "   macro avg       0.98      0.98      0.98     14000\n",
      "weighted avg       0.98      0.98      0.98     14000\n",
      "\n"
     ]
    }
   ],
   "execution_count": 7
  }
 ],
 "metadata": {
  "kernelspec": {
   "display_name": "Python 3",
   "language": "python",
   "name": "python3"
  },
  "language_info": {
   "codemirror_mode": {
    "name": "ipython",
    "version": 2
   },
   "file_extension": ".py",
   "mimetype": "text/x-python",
   "name": "python",
   "nbconvert_exporter": "python",
   "pygments_lexer": "ipython2",
   "version": "2.7.6"
  }
 },
 "nbformat": 4,
 "nbformat_minor": 5
}
